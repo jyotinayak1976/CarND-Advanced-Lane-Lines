{
 "cells": [
  {
   "cell_type": "markdown",
   "metadata": {},
   "source": [
    "### Use the calibration data stored as a pickle file from the Advanced Lane Finding Test to build the subsequent pipeline."
   ]
  },
  {
   "cell_type": "code",
   "execution_count": 1,
   "metadata": {
    "collapsed": false
   },
   "outputs": [],
   "source": [
    "import numpy as np\n",
    "import cv2\n",
    "import os\n",
    "import pickle\n",
    "import matplotlib.pyplot as plt\n",
    "from moviepy.editor import VideoFileClip\n",
    "from collections import deque\n",
    "import matplotlib.image as mpimg\n",
    "%matplotlib inline\n",
    "calib_data = pickle.load( open(\"camera_cal/wide_dist_pickle.p\", \"rb\" ) )\n",
    "dist = calib_data['dist']\n",
    "mtx = calib_data['mtx']"
   ]
  },
  {
   "cell_type": "code",
   "execution_count": 2,
   "metadata": {
    "collapsed": false
   },
   "outputs": [
    {
     "data": {
      "text/plain": [
       "array([[ -2.41017968e-01,  -5.30720497e-02,  -1.15810318e-03,\n",
       "         -1.28318543e-04,   2.67124302e-02]])"
      ]
     },
     "execution_count": 2,
     "metadata": {},
     "output_type": "execute_result"
    }
   ],
   "source": [
    "dist"
   ]
  },
  {
   "cell_type": "code",
   "execution_count": 3,
   "metadata": {
    "collapsed": false
   },
   "outputs": [
    {
     "data": {
      "text/plain": [
       "array([[  1.15396093e+03,   0.00000000e+00,   6.69705359e+02],\n",
       "       [  0.00000000e+00,   1.14802495e+03,   3.85656232e+02],\n",
       "       [  0.00000000e+00,   0.00000000e+00,   1.00000000e+00]])"
      ]
     },
     "execution_count": 3,
     "metadata": {},
     "output_type": "execute_result"
    }
   ],
   "source": [
    "mtx"
   ]
  },
  {
   "cell_type": "markdown",
   "metadata": {},
   "source": [
    "### Now create all the functions (Distortion Correction, Sobel Edge dection and perspective wapr together to process the entire data."
   ]
  },
  {
   "cell_type": "code",
   "execution_count": 4,
   "metadata": {
    "collapsed": true
   },
   "outputs": [],
   "source": [
    "def undistort_image(img, mtx, dist):\n",
    "    undist_img = cv2.undistort(img, mtx, dist, None, mtx)\n",
    "    return undist_img\n",
    "\n",
    "def abs_sobel_thresh(img, orient='x', sobel_kernel=3, thresh=(0, 255)):\n",
    "    if orient=='x':\n",
    "        img_s = cv2.Sobel(img,cv2.CV_64F, 1, 0)\n",
    "    else:\n",
    "        img_s = cv2.Sobel(img,cv2.CV_64F, 0, 1)\n",
    "    img_abs = np.absolute(img_s)\n",
    "    img_sobel = np.uint8(255*img_abs/np.max(img_abs))\n",
    "    \n",
    "    binary_output = 0*img_sobel\n",
    "    binary_output[(img_sobel >= thresh[0]) & (img_sobel <= thresh[1])] = 1\n",
    "    return binary_output\n",
    "\n",
    "def mag_thresh(img, sobel_kernel=3, thresh=(0, 255)):\n",
    "    img_sx = cv2.Sobel(img,cv2.CV_64F, 1, 0)\n",
    "    img_sy = cv2.Sobel(img,cv2.CV_64F, 0, 1)\n",
    "    \n",
    "    img_s = np.sqrt(img_sx**2 + img_sy**2)\n",
    "    img_s = np.uint8(img_s*255/np.max(img_s))\n",
    "    binary_output = 0*img_s\n",
    "    binary_output[(img_s>=thresh[0]) & (img_s<=thresh[1]) ]=1\n",
    "    return binary_output\n",
    "\n",
    "def dir_threshold(img, sobel_kernel=3, thresh=(0, np.pi/2)):\n",
    "    img_sx = cv2.Sobel(img,cv2.CV_64F,1,0, ksize=sobel_kernel)\n",
    "    img_sy = cv2.Sobel(img,cv2.CV_64F,0,1, ksize=sobel_kernel)\n",
    "    \n",
    "    grad_s = np.arctan2(np.absolute(img_sy), np.absolute(img_sx))\n",
    "    \n",
    "    binary_output = 0*grad_s # Remove this line\n",
    "    binary_output[(grad_s>=thresh[0]) & (grad_s<=thresh[1])] = 1\n",
    "    return binary_output\n",
    "    \n",
    "def warp_image(img,src,dst,img_size):\n",
    "    M = cv2.getPerspectiveTransform(src, dst)\n",
    "    warped = cv2.warpPerspective(img, M, img_size, flags=cv2.INTER_LINEAR)\n",
    "    Minv = cv2.getPerspectiveTransform(dst, src)\n",
    "\n",
    "    return warped,M,Minv\n",
    "\n",
    "def color_mask(hsv,low,high): \n",
    "    mask = cv2.inRange(hsv, low, high)\n",
    "    return mask\n",
    "\n",
    "def apply_color_mask(hsv,img,low,high):\n",
    "    mask = cv2.inRange(hsv, low, high)\n",
    "    res = cv2.bitwise_and(img,img, mask= mask)\n",
    "    return res\n",
    "\n",
    "def gaussian_blur(img, kernel=5):\n",
    "    # Apply Gaussian Blur\n",
    "    blur = cv2.GaussianBlur(img,(kernel,kernel),0)\n",
    "    return blur\n"
   ]
  },
  {
   "cell_type": "code",
   "execution_count": 5,
   "metadata": {
    "collapsed": true
   },
   "outputs": [],
   "source": [
    "class Line:\n",
    "    def __init__(self):\n",
    "        # Was the line found in the previous frame?\n",
    "        self.found = False\n",
    "        \n",
    "        # Remember x and y values of lanes in previous frame\n",
    "        self.X = None\n",
    "        self.Y = None\n",
    "        \n",
    "        # Store recent x intercepts for averaging across frames\n",
    "        self.x_int = deque(maxlen=10)\n",
    "        self.top = deque(maxlen=10)\n",
    "        \n",
    "        # Remember previous x intercept to compare against current one\n",
    "        self.lastx_int = None\n",
    "        self.last_top = None\n",
    "        \n",
    "        # Remember radius of curvature\n",
    "        self.radius = None\n",
    "        \n",
    "        # Store recent polynomial coefficients for averaging across frames\n",
    "        self.fit0 = deque(maxlen=10)\n",
    "        self.fit1 = deque(maxlen=10)\n",
    "        self.fit2 = deque(maxlen=10)\n",
    "        self.fitx = None\n",
    "        self.pts = []\n",
    "        \n",
    "        # Count the number of frames\n",
    "        self.count = 0\n",
    "        \n",
    "    def found_search(self, x, y):\n",
    "        '''\n",
    "        This function is applied when the lane lines have been detected in the previous frame.\n",
    "        It uses a sliding window to search for lane pixels in close proximity (+/- 25 pixels in the x direction)\n",
    "        around the previous detected polynomial. \n",
    "        '''\n",
    "        xvals = []\n",
    "        yvals = []\n",
    "        if self.found == True: \n",
    "            i = 720\n",
    "            j = 640\n",
    "            while j >= 0:\n",
    "                yval = np.mean([i,j])\n",
    "                xval = (np.mean(self.fit0))*yval**2 + (np.mean(self.fit1))*yval + (np.mean(self.fit2))\n",
    "                x_idx = np.where((((xval - 25) < x)&(x < (xval + 25))&((y > j) & (y < i))))\n",
    "                x_window, y_window = x[x_idx], y[x_idx]\n",
    "                if np.sum(x_window) != 0:\n",
    "                    np.append(xvals, x_window)\n",
    "                    np.append(yvals, y_window)\n",
    "                i -= 80\n",
    "                j -= 80\n",
    "        if np.sum(xvals) == 0: \n",
    "            self.found = False # If no lane pixels were detected then perform blind search\n",
    "        return xvals, yvals, self.found\n",
    "    \n",
    "    def blind_search(self, x, y, image):\n",
    "        '''\n",
    "        This function is applied in the first few frames and/or if the lane was not successfully detected\n",
    "        in the previous frame. It uses a slinding window approach to detect peaks in a histogram of the\n",
    "        binary thresholded image. Pixels in close proimity to the detected peaks are considered to belong\n",
    "        to the lane lines.\n",
    "        '''\n",
    "        xvals = []\n",
    "        yvals = []\n",
    "        if self.found == False: \n",
    "            i = 720\n",
    "            j = 640\n",
    "            while j >= 0:\n",
    "                histogram = np.sum(image[j:i,:], axis=0)\n",
    "                if self == Right:\n",
    "                    peak = np.argmax(histogram[640:]) + 640\n",
    "                else:\n",
    "                    peak = np.argmax(histogram[:640])\n",
    "                x_idx = np.where((((peak - 25) < x)&(x < (peak + 25))&((y > j) & (y < i))))\n",
    "                x_window, y_window = x[x_idx], y[x_idx]\n",
    "                if np.sum(x_window) != 0:\n",
    "                    xvals.extend(x_window)\n",
    "                    yvals.extend(y_window)\n",
    "                i -= 80\n",
    "                j -= 80\n",
    "        if np.sum(xvals) > 0:\n",
    "            self.found = True\n",
    "        else:\n",
    "            yvals = self.Y\n",
    "            xvals = self.X\n",
    "        return xvals, yvals, self.found\n",
    "    \n",
    "    def radius_of_curvature(self, xvals, yvals):\n",
    "        ym_per_pix = 30./720 # meters per pixel in y dimension\n",
    "        xm_per_pix = 3.7/700 # meteres per pixel in x dimension\n",
    "        fit_cr = np.polyfit(yvals*ym_per_pix, xvals*xm_per_pix, 2)\n",
    "        curverad = ((1 + (2*fit_cr[0]*np.max(yvals) + fit_cr[1])**2)**1.5) \\\n",
    "                                     /np.absolute(2*fit_cr[0])\n",
    "        return curverad\n",
    "    \n",
    "    def sort_vals(self, xvals, yvals):\n",
    "        sorted_index = np.argsort(yvals)\n",
    "        sorted_yvals = yvals[sorted_index]\n",
    "        sorted_xvals = xvals[sorted_index]\n",
    "        return sorted_xvals, sorted_yvals\n",
    "    \n",
    "    def get_intercepts(self, polynomial):\n",
    "        bottom = polynomial[0]*720**2 + polynomial[1]*720 + polynomial[2]\n",
    "        top = polynomial[0]*0**2 + polynomial[1]*0 + polynomial[2]\n",
    "        return bottom, top"
   ]
  },
  {
   "cell_type": "code",
   "execution_count": 6,
   "metadata": {
    "collapsed": true
   },
   "outputs": [],
   "source": [
    "def pipeline_process(image):\n",
    "    undist_image = undistort_image(image, mtx, dist)\n",
    "    image_size = undist_image.shape\n",
    "    ht_window = np.uint(image_size[0]/1.5)\n",
    "    hb_window = np.uint(image_size[0])\n",
    "    c_window = np.uint(image_size[1]/2)\n",
    "    ctl_window = c_window - .2*np.uint(image_size[1]/2)\n",
    "    ctr_window = c_window + .2*np.uint(image_size[1]/2)\n",
    "    cbl_window = c_window - .9*np.uint(image_size[1]/2)\n",
    "    cbr_window = c_window + .9*np.uint(image_size[1]/2)\n",
    "\n",
    "    src = np.float32([[cbl_window,hb_window],[cbr_window,hb_window],[ctr_window,ht_window],[ctl_window,ht_window]])\n",
    "\n",
    "    dst = np.float32([[0,image_size[0]],[image_size[1],image_size[0]],\n",
    "                      [image_size[1],0],[0,0]])\n",
    "\n",
    "    warped,M_warp,Minv_warp = warp_image(image,src,dst,(image_size[1],image_size[0]))\n",
    "    \n",
    "    image_HSV = cv2.cvtColor(warped,cv2.COLOR_RGB2HSV)\n",
    "\n",
    "    yellow_hsv_low  = np.array([ 0,  100,  100])\n",
    "    yellow_hsv_high = np.array([ 80, 255, 255])\n",
    "\n",
    "    yellow_mask = color_mask(image_HSV,yellow_hsv_low,yellow_hsv_high)\n",
    "    yellow = apply_color_mask(image_HSV,warped,yellow_hsv_low,yellow_hsv_high)\n",
    "    \n",
    "    white_hsv_low  = np.array([ 0,   0,   175])\n",
    "    white_hsv_high = np.array([ 255,  30, 255])\n",
    "\n",
    "    white = apply_color_mask(image_HSV,warped,white_hsv_low,white_hsv_high)\n",
    "    mask_yellow = color_mask(image_HSV,yellow_hsv_low,yellow_hsv_high)\n",
    "    mask_white = color_mask(image_HSV,white_hsv_low,white_hsv_high)\n",
    "    mask_lane = cv2.bitwise_or(mask_yellow,mask_white)\n",
    "    \n",
    "    imageL = cv2.GaussianBlur(undist_image,(5,5),0)\n",
    "    image_HLS = cv2.cvtColor(warped,cv2.COLOR_RGB2HLS)\n",
    "    \n",
    "    img_gs = image_HLS[:,:,1]\n",
    "    img_abs_x = abs_sobel_thresh(img_gs,'x',5,(50,255))\n",
    "    img_abs_y = abs_sobel_thresh(img_gs,'y',5,(50,255))\n",
    "    \n",
    "    wraped2 = np.copy(cv2.bitwise_or(img_abs_x,img_abs_y))\n",
    "    \n",
    "    img_gs = image_HLS[:,:,2]\n",
    "    img_abs_x = abs_sobel_thresh(img_gs,'x',5,(50,255))\n",
    "    img_abs_y = abs_sobel_thresh(img_gs,'y',5,(50,255))\n",
    "\n",
    "    wraped3 = np.copy(cv2.bitwise_or(img_abs_x,img_abs_y))\n",
    "    \n",
    "    combined_image = cv2.bitwise_or(wraped2,wraped3)\n",
    "    \n",
    "    combined_image1 = np.zeros_like(combined_image)\n",
    "    combined_image1[(mask_lane>=.5)|(combined_image>=.5)]=1\n",
    "    combined_image1 = cv2.GaussianBlur(combined_image1,(3,3),0)\n",
    "\n",
    "    x, y = np.nonzero(np.transpose(combined_image1)) \n",
    "\n",
    "    if Left.found == True: # Search for left lane pixels around previous polynomial\n",
    "        leftx, lefty, Left.found = Left.found_search(x, y)\n",
    "        \n",
    "    if Right.found == True: # Search for right lane pixels around previous polynomial\n",
    "        rightx, righty, Right.found = Right.found_search(x, y)\n",
    "\n",
    "            \n",
    "    if Right.found == False: # Perform blind search for right lane lines\n",
    "        rightx, righty, Right.found = Right.blind_search(x, y, combined_image1)\n",
    "            \n",
    "    if Left.found == False:# Perform blind search for left lane lines\n",
    "        leftx, lefty, Left.found = Left.blind_search(x, y, combined_image1)\n",
    "\n",
    "    lefty = np.array(lefty).astype(np.float32)\n",
    "    leftx = np.array(leftx).astype(np.float32)\n",
    "    righty = np.array(righty).astype(np.float32)\n",
    "    rightx = np.array(rightx).astype(np.float32)\n",
    "            \n",
    "    # Calculate left polynomial fit based on detected pixels\n",
    "    left_fit = np.polyfit(lefty, leftx, 2)\n",
    "    \n",
    "    # Calculate intercepts to extend the polynomial to the top and bottom of warped image\n",
    "    leftx_int, left_top = Left.get_intercepts(left_fit)\n",
    "    \n",
    "    # Average intercepts across n frames\n",
    "    Left.x_int.append(leftx_int)\n",
    "    Left.top.append(left_top)\n",
    "    leftx_int = np.mean(Left.x_int)\n",
    "    left_top = np.mean(Left.top)\n",
    "    Left.lastx_int = leftx_int\n",
    "    Left.last_top = left_top\n",
    "    \n",
    "    # Add averaged intercepts to current x and y vals\n",
    "    leftx = np.append(leftx, leftx_int)\n",
    "    lefty = np.append(lefty, 720)\n",
    "    leftx = np.append(leftx, left_top)\n",
    "    lefty = np.append(lefty, 0)\n",
    "    \n",
    "    # Sort detected pixels based on the yvals\n",
    "    leftx, lefty = Left.sort_vals(leftx, lefty)\n",
    "    \n",
    "    Left.X = leftx\n",
    "    Left.Y = lefty\n",
    "    \n",
    "    # Recalculate polynomial with intercepts and average across n frames\n",
    "    left_fit = np.polyfit(lefty, leftx, 2)\n",
    "    Left.fit0.append(left_fit[0])\n",
    "    Left.fit1.append(left_fit[1])\n",
    "    Left.fit2.append(left_fit[2])\n",
    "    left_fit = [np.mean(Left.fit0), \n",
    "                np.mean(Left.fit1), \n",
    "                np.mean(Left.fit2)]\n",
    "    \n",
    "    # Fit polynomial to detected pixels\n",
    "    left_fitx = left_fit[0]*lefty**2 + left_fit[1]*lefty + left_fit[2]\n",
    "    Left.fitx = left_fitx\n",
    "    \n",
    "    # Calculate right polynomial fit based on detected pixels\n",
    "    right_fit = np.polyfit(righty, rightx, 2)\n",
    "\n",
    "    # Calculate intercepts to extend the polynomial to the top and bottom of warped image\n",
    "    rightx_int, right_top = Right.get_intercepts(right_fit)\n",
    "    \n",
    "    # Average intercepts across 5 frames\n",
    "    Right.x_int.append(rightx_int)\n",
    "    rightx_int = np.mean(Right.x_int)\n",
    "    Right.top.append(right_top)\n",
    "    right_top = np.mean(Right.top)\n",
    "    Right.lastx_int = rightx_int\n",
    "    Right.last_top = right_top\n",
    "    rightx = np.append(rightx, rightx_int)\n",
    "    righty = np.append(righty, 720)\n",
    "    rightx = np.append(rightx, right_top)\n",
    "    righty = np.append(righty, 0)\n",
    "    \n",
    "    # Sort right lane pixels\n",
    "    rightx, righty = Right.sort_vals(rightx, righty)\n",
    "    Right.X = rightx\n",
    "    Right.Y = righty\n",
    "    \n",
    "    # Recalculate polynomial with intercepts and average across n frames\n",
    "    right_fit = np.polyfit(righty, rightx, 2)\n",
    "    Right.fit0.append(right_fit[0])\n",
    "    Right.fit1.append(right_fit[1])\n",
    "    Right.fit2.append(right_fit[2])\n",
    "    right_fit = [np.mean(Right.fit0), np.mean(Right.fit1), np.mean(Right.fit2)]\n",
    "    \n",
    "    # Fit polynomial to detected pixels\n",
    "    right_fitx = right_fit[0]*righty**2 + right_fit[1]*righty + right_fit[2]\n",
    "    Right.fitx = right_fitx\n",
    "        \n",
    "    # Compute radius of curvature for each lane in meters\n",
    "    left_curverad = Left.radius_of_curvature(leftx, lefty)\n",
    "    right_curverad = Right.radius_of_curvature(rightx, righty)\n",
    "        \n",
    "    # Only print the radius of curvature every 3 frames for improved readability\n",
    "    if Left.count % 3 == 0:\n",
    "        Left.radius = left_curverad\n",
    "        Right.radius = right_curverad\n",
    "        \n",
    "    # Calculate the vehicle position relative to the center of the lane\n",
    "    position = (rightx_int+leftx_int)/2\n",
    "    distance_from_center = abs((640 - position)*3.7/700) \n",
    "                \n",
    "    Minv = cv2.getPerspectiveTransform(dst, src)\n",
    "    \n",
    "    warp_zero = np.zeros_like(combined_image1).astype(np.uint8)\n",
    "    color_warp = np.dstack((warp_zero, warp_zero, warp_zero))\n",
    "    pts_left = np.array([np.flipud(np.transpose(np.vstack([Left.fitx, Left.Y])))])\n",
    "    pts_right = np.array([np.transpose(np.vstack([right_fitx, Right.Y]))])\n",
    "    pts = np.hstack((pts_left, pts_right))\n",
    "    cv2.polylines(color_warp, np.int_([pts]), isClosed=False, color=(0,0,255), thickness = 40)\n",
    "    cv2.fillPoly(color_warp, np.int_(pts), (34,255,34))\n",
    "    newwarp = cv2.warpPerspective(color_warp, Minv, (image.shape[1], image.shape[0]))\n",
    "    result = cv2.addWeighted(undist_image, 1, newwarp, 0.5, 0)\n",
    "        \n",
    "    # Print distance from center on video\n",
    "    if position > 640:\n",
    "        cv2.putText(result, 'Vehicle is {:.2f}m left of center'.format(distance_from_center), (100,80),\n",
    "                 fontFace = 16, fontScale = 2, color=(255,255,255), thickness = 2)\n",
    "    else:\n",
    "        cv2.putText(result, 'Vehicle is {:.2f}m right of center'.format(distance_from_center), (100,80),\n",
    "                 fontFace = 16, fontScale = 2, color=(255,255,255), thickness = 2)\n",
    "    # Print radius of curvature on video\n",
    "    cv2.putText(result, 'Radius of Curvature {}(m)'.format(int((Left.radius+Right.radius)/2)), (120,140),\n",
    "             fontFace = 16, fontScale = 2, color=(255,255,255), thickness = 2)\n",
    "    Left.count += 1\n",
    "    return result\n",
    "    \n",
    "\n"
   ]
  },
  {
   "cell_type": "code",
   "execution_count": 7,
   "metadata": {
    "collapsed": false
   },
   "outputs": [
    {
     "name": "stdout",
     "output_type": "stream",
     "text": [
      "[MoviePy] >>>> Building video project_video_output.mp4\n",
      "[MoviePy] Writing video project_video_output.mp4\n"
     ]
    },
    {
     "name": "stderr",
     "output_type": "stream",
     "text": [
      "100%|█████████▉| 1260/1261 [13:10<00:01,  1.37s/it]\n"
     ]
    },
    {
     "name": "stdout",
     "output_type": "stream",
     "text": [
      "[MoviePy] Done.\n",
      "[MoviePy] >>>> Video ready: project_video_output.mp4 \n",
      "\n"
     ]
    }
   ],
   "source": [
    "Left = Line()\n",
    "Right = Line()\n",
    "video_output = 'project_video_output.mp4'\n",
    "clip1 = VideoFileClip(\"project_video.mp4\")\n",
    "white_clip = clip1.fl_image(pipeline_process) \n",
    "white_clip.write_videofile(video_output, audio=False)"
   ]
  },
  {
   "cell_type": "code",
   "execution_count": 8,
   "metadata": {
    "collapsed": false
   },
   "outputs": [
    {
     "name": "stdout",
     "output_type": "stream",
     "text": [
      "[MoviePy] >>>> Building video challenge_video_output.mp4\n",
      "[MoviePy] Writing video challenge_video_output.mp4\n"
     ]
    },
    {
     "name": "stderr",
     "output_type": "stream",
     "text": [
      "100%|██████████| 60/60 [00:19<00:00,  2.98it/s]\n"
     ]
    },
    {
     "name": "stdout",
     "output_type": "stream",
     "text": [
      "[MoviePy] Done.\n",
      "[MoviePy] >>>> Video ready: challenge_video_output.mp4 \n",
      "\n"
     ]
    }
   ],
   "source": [
    "video_output = 'challenge_video_output.mp4'\n",
    "clip1 = VideoFileClip(\"challenge_video.mp4\").subclip(0,2)\n",
    "white_clip = clip1.fl_image(pipeline_process) \n",
    "white_clip.write_videofile(video_output, audio=False)"
   ]
  },
  {
   "cell_type": "code",
   "execution_count": null,
   "metadata": {
    "collapsed": true
   },
   "outputs": [],
   "source": []
  }
 ],
 "metadata": {
  "kernelspec": {
   "display_name": "Python 3",
   "language": "python",
   "name": "python3"
  },
  "language_info": {
   "codemirror_mode": {
    "name": "ipython",
    "version": 3
   },
   "file_extension": ".py",
   "mimetype": "text/x-python",
   "name": "python",
   "nbconvert_exporter": "python",
   "pygments_lexer": "ipython3",
   "version": "3.5.2"
  }
 },
 "nbformat": 4,
 "nbformat_minor": 2
}
